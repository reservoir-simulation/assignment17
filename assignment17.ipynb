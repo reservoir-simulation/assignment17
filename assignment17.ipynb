{
 "cells": [
  {
   "cell_type": "markdown",
   "metadata": {},
   "source": [
    "# Homework Assignment 17\n",
    "\n",
    "\n",
    "## Instructions\n",
    "\n",
    "Consider the reservoir shown below with the given properties that has been discretized into equal grid blocks.\n",
    "\n",
    "![image](images/grid.png)\n",
    "\n",
    "To be clear, there is a constant-rate injector of 1000 ft$^3$/day at $x$ = 5000 ft, $y$ = 5000 ft and a constant BHP well (producer) with $p_w$ = 800 psi at $x$ = 9000 ft, $y$ = 9000 ft. Both wells have a radius of 0.25 ft and no skin factor.\n",
    "\n",
    "Use the code you wrote in [Assignment 15](https://github.com/PGE323M-Fall2018/assignment15) and add additional functionality to incorporate the wells.  The wells section of the inputs will look something like:\n",
    "\n",
    "```yml\n",
    "'wells':\n",
    "    'rate':\n",
    "        'locations': \n",
    "            - [0.0, 1.0]\n",
    "            - [9999.0, 2.0]\n",
    "        'values': [1000, 1000]\n",
    "        'radii': [0.25, 0.25]\n",
    "    'bhp':\n",
    "        'locations': \n",
    "            - [6250.0, 1.0]\n",
    "        'values': [800]\n",
    "        'radii': [0.25]\n",
    "        'skin factor': 0.0\n",
    "```\n",
    "\n",
    "notice that all the values are Python lists so that multiple wells of each type can be included.  The `'locations'` keyword has a value that is a list of lists.  Each sublist contains the $x,y$ Cartesian coordinate pair that gives the location of the well.  You must write some code that can take this $x,y$-pair and return the grid block number that the well resides in.  This should be general enough that changing the number of grids in the $x$ and $y$ directions still gives the correct grid block.  Once you know the grid block numbers for the wells, the changes to `fill_matrices()` should be relatively easy.\n",
    "\n",
    "All of the old tests from the last few assignments are still in place, so your code must run in the absence of any well section in your inputs."
   ]
  }
 ],
 "metadata": {
  "kernelspec": {
   "display_name": "Python 3",
   "language": "python",
   "name": "python3"
  },
  "language_info": {
   "codemirror_mode": {
    "name": "ipython",
    "version": 3
   },
   "file_extension": ".py",
   "mimetype": "text/x-python",
   "name": "python",
   "nbconvert_exporter": "python",
   "pygments_lexer": "ipython3",
   "version": "3.6.5"
  }
 },
 "nbformat": 4,
 "nbformat_minor": 2
}
